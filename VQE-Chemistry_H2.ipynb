{
 "cells": [
  {
   "cell_type": "code",
   "execution_count": 1,
   "metadata": {
    "scrolled": false
   },
   "outputs": [
    {
     "data": {
      "text/html": [
       "<h3>Version Information</h3><table><tr><th>Qiskit Software</th><th>Version</th></tr><tr><td>Qiskit</td><td>0.19.6</td></tr><tr><td>Terra</td><td>0.14.2</td></tr><tr><td>Aer</td><td>0.5.2</td></tr><tr><td>Ignis</td><td>0.3.3</td></tr><tr><td>Aqua</td><td>0.7.3</td></tr><tr><td>IBM Q Provider</td><td>0.7.2</td></tr><tr><th>System information</th></tr><tr><td>Python</td><td>3.7.7 (default, May  7 2020, 21:25:33) \n",
       "[GCC 7.3.0]</td></tr><tr><td>OS</td><td>Linux</td></tr><tr><td>CPUs</td><td>6</td></tr><tr><td>Memory (Gb)</td><td>251.8483543395996</td></tr><tr><td colspan='2'>Sun Sep 13 14:43:13 2020 CST</td></tr></table>"
      ],
      "text/plain": [
       "<IPython.core.display.HTML object>"
      ]
     },
     "metadata": {},
     "output_type": "display_data"
    }
   ],
   "source": [
    "import qiskit.tools.jupyter\n",
    "%qiskit_version_table"
   ]
  },
  {
   "cell_type": "markdown",
   "metadata": {},
   "source": [
    "### Classical Preparation"
   ]
  },
  {
   "cell_type": "code",
   "execution_count": 2,
   "metadata": {},
   "outputs": [],
   "source": [
    "# import common packages\n",
    "import numpy as np\n",
    "from qiskit import Aer\n",
    "\n",
    "# lib from Qiskit Aqua\n",
    "from qiskit.aqua import QuantumInstance\n",
    "from qiskit.aqua.algorithms import VQE, NumPyMinimumEigensolver ,ExactEigensolver\n",
    "from qiskit.aqua.operators import Z2Symmetries\n",
    "from qiskit.aqua.components.optimizers import COBYLA\n",
    "\n",
    "# lib from Qiskit Aqua Chemistry\n",
    "from qiskit.chemistry import FermionicOperator\n",
    "from qiskit.chemistry.drivers import PSI4Driver\n",
    "from qiskit.chemistry.components.variational_forms import UCCSD\n",
    "from qiskit.chemistry.components.initial_states import HartreeFock"
   ]
  },
  {
   "cell_type": "code",
   "execution_count": 3,
   "metadata": {},
   "outputs": [],
   "source": [
    "psi4_h2_config = '''\n",
    "molecule mol {{\n",
    "   0 1\n",
    "   H   0.0 0.0 0.0\n",
    "   H   0.0 0.0 {}\n",
    "}}\n",
    "\n",
    "set {{\n",
    "      basis sto-3g\n",
    "      scf_type pk\n",
    "      reference {}\n",
    "}}\n",
    "'''\n",
    "R=0.74\n",
    "driver = PSI4Driver(config=psi4_h2_config.format(R,'rhf'))    \n",
    "molecule=driver.run()"
   ]
  },
  {
   "cell_type": "code",
   "execution_count": 4,
   "metadata": {},
   "outputs": [
    {
     "name": "stdout",
     "output_type": "stream",
     "text": [
      "HF energy: -1.8318636461214002\n",
      "# of electrons: 2\n",
      "# of spin orbitals: 4\n"
     ]
    }
   ],
   "source": [
    "h1 = molecule.one_body_integrals\n",
    "h2 = molecule.two_body_integrals\n",
    "nuclear_repulsion_energy = molecule.nuclear_repulsion_energy\n",
    "\n",
    "num_particles = molecule.num_alpha + molecule.num_beta\n",
    "num_spin_orbitals = molecule.num_orbitals * 2\n",
    "print(\"HF energy: {}\".format(molecule.hf_energy - molecule.nuclear_repulsion_energy))\n",
    "print(\"# of electrons: {}\".format(num_particles))\n",
    "print(\"# of spin orbitals: {}\".format(num_spin_orbitals))"
   ]
  },
  {
   "cell_type": "markdown",
   "metadata": {},
   "source": [
    "### Generate the Qubit Hamiltonian "
   ]
  },
  {
   "cell_type": "code",
   "execution_count": 5,
   "metadata": {},
   "outputs": [
    {
     "name": "stdout",
     "output_type": "stream",
     "text": [
      "IIII\t(-0.8121706073608693+0j)\n",
      "IIIZ\t(0.17141282639402397+0j)\n",
      "IIZI\t(0.17141282639402397+0j)\n",
      "IZII\t(-0.22343153674663999+0j)\n",
      "ZIII\t(-0.22343153674663993+0j)\n",
      "IZIZ\t(0.12062523481381834+0j)\n",
      "IIZZ\t(0.16868898168693283+0j)\n",
      "XXYY\t(-0.04530261550868934+0j)\n",
      "YXXY\t(0.04530261550868934+0j)\n",
      "XYYX\t(0.04530261550868934+0j)\n",
      "YYXX\t(-0.04530261550868934+0j)\n",
      "ZIIZ\t(0.16592785032250768+0j)\n",
      "ZIZI\t(0.12062523481381834+0j)\n",
      "IZZI\t(0.16592785032250768+0j)\n",
      "ZZII\t(0.17441287610651623+0j)\n",
      "\n",
      "Representation: paulis, qubits: 4, size: 15\n"
     ]
    }
   ],
   "source": [
    "map_type = 'jordan_wigner'\n",
    "\n",
    "qubit_reduction = True if map_type == '' else False\n",
    "\n",
    "ferOp = FermionicOperator(h1=h1, h2=h2)\n",
    "ferOp._convert_to_interleaved_spins()\n",
    "qubitOp = ferOp.mapping(map_type=map_type, threshold=0.00000001)\n",
    "qubitOp = Z2Symmetries.two_qubit_reduction(qubitOp, num_particles) if qubit_reduction else qubitOp\n",
    "qubitOp.chop(10**-10)\n",
    "\n",
    "print(qubitOp.print_details())\n",
    "print(qubitOp)"
   ]
  },
  {
   "cell_type": "markdown",
   "metadata": {},
   "source": [
    "### Classical Eigensolver (code problem here)"
   ]
  },
  {
   "cell_type": "code",
   "execution_count": null,
   "metadata": {},
   "outputs": [],
   "source": [
    "#exact_eigensolver = ExactEigensolver(qubitOp)\n",
    "#ret = exact_eigensolver.run()\n",
    "#print('The computed energy is: {:.12f}'.format(ret.eigenvalue.real))"
   ]
  },
  {
   "cell_type": "markdown",
   "metadata": {},
   "source": [
    "## Now Quantum In"
   ]
  },
  {
   "cell_type": "markdown",
   "metadata": {},
   "source": [
    "#### Step 1: Ansatz Construction"
   ]
  },
  {
   "cell_type": "markdown",
   "metadata": {},
   "source": [
    "<center> $U(\\theta)=e^{-i\\theta X_3 X_2 X_1 Y_0}$"
   ]
  },
  {
   "cell_type": "code",
   "execution_count": 6,
   "metadata": {},
   "outputs": [],
   "source": [
    "from qiskit import QuantumCircuit, ClassicalRegister, QuantumRegister, execute\n",
    "from qiskit.circuit import ParameterVector\n",
    "from qiskit.tools.visualization import circuit_drawer\n",
    "from math import pi"
   ]
  },
  {
   "cell_type": "code",
   "execution_count": 7,
   "metadata": {},
   "outputs": [],
   "source": [
    "def ucc_ansatz(theta):\n",
    "    ucc = QuantumCircuit(4)\n",
    "    \n",
    "    # Generate HF state\n",
    "    ucc.x(0)\n",
    "    ucc.x(1)\n",
    "    \n",
    "    ucc.barrier()\n",
    "    ucc.rx(-pi/2,0)\n",
    "    ucc.h([1,2,3])\n",
    "    for i in range(3):\n",
    "        ucc.cx(i, i+1)      \n",
    "        \n",
    "    ucc.rz(theta*2,3)\n",
    "    \n",
    "    for i in reversed(range(3)):\n",
    "        ucc.cx(i, i+1)            \n",
    "    ucc.barrier()    \n",
    "    ucc.rx(+pi/2,0)\n",
    "    ucc.h([1,2,3])\n",
    "    ucc.barrier()\n",
    "    return ucc"
   ]
  },
  {
   "cell_type": "code",
   "execution_count": 8,
   "metadata": {
    "scrolled": false
   },
   "outputs": [
    {
     "data": {
      "image/png": "[encoded data removed]",
      "text/plain": [
       "<Figure size 780.192x264.88 with 1 Axes>"
      ]
     },
     "execution_count": 8,
     "metadata": {},
     "output_type": "execute_result"
    }
   ],
   "source": [
    "from qiskit.circuit import Parameter\n",
    "theta = Parameter('θ')\n",
    "var_circ=ucc_ansatz(theta)\n",
    "var_circ.draw(output='mpl',plot_barriers=0)"
   ]
  },
  {
   "cell_type": "markdown",
   "metadata": {},
   "source": [
    "### Qiskit Default"
   ]
  },
  {
   "cell_type": "code",
   "execution_count": 9,
   "metadata": {},
   "outputs": [],
   "source": [
    "optimizer = COBYLA(maxiter=100)\n",
    "backend = Aer.get_backend('statevector_simulator')\n",
    "vqe = VQE(operator=qubitOp, optimizer=optimizer, quantum_instance=backend)"
   ]
  },
  {
   "cell_type": "code",
   "execution_count": 10,
   "metadata": {},
   "outputs": [
    {
     "name": "stdout",
     "output_type": "stream",
     "text": [
      "VQE: -1.85238813920865\n"
     ]
    }
   ],
   "source": [
    "vqe.var_form = var_circ\n",
    "result = vqe.compute_minimum_eigenvalue()\n",
    "print('VQE:', result.eigenvalue.real)"
   ]
  }
 ],
 "metadata": {
  "kernelspec": {
   "display_name": "Python 3",
   "language": "python",
   "name": "python3"
  },
  "language_info": {
   "codemirror_mode": {
    "name": "ipython",
    "version": 3
   },
   "file_extension": ".py",
   "mimetype": "text/x-python",
   "name": "python",
   "nbconvert_exporter": "python",
   "pygments_lexer": "ipython3",
   "version": "3.7.7"
  }
 },
 "nbformat": 4,
 "nbformat_minor": 4
}
