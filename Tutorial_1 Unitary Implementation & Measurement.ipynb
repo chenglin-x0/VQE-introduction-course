{
 "cells": [
  {
   "cell_type": "code",
   "execution_count": 1,
   "metadata": {},
   "outputs": [],
   "source": [
    "# autocompletation\n",
    "%config Completer.use_jedi = False\n",
    "\n",
    "import math\n",
    "\n",
    "# sympy\n",
    "from sympy import *\n",
    "from sympy import Matrix,Symbol,cos,pi,sin,sqrt,exp,simplify\n",
    "from sympy.physics.quantum.dagger import Dagger\n",
    "from sympy.abc import alpha,beta,gamma,delta\n",
    "from sympy.physics.quantum import TensorProduct\n",
    "\n",
    "theta=Symbol('theta',real=True)\n",
    "phi=Symbol('phi',real=True)"
   ]
  },
  {
   "cell_type": "code",
   "execution_count": 2,
   "metadata": {},
   "outputs": [
    {
     "data": {
      "text/html": [
       "<h3>Version Information</h3><table><tr><th>Qiskit Software</th><th>Version</th></tr><tr><td>Qiskit</td><td>0.23.1</td></tr><tr><td>Terra</td><td>0.16.1</td></tr><tr><td>Aer</td><td>0.7.1</td></tr><tr><td>Ignis</td><td>0.5.1</td></tr><tr><td>Aqua</td><td>0.8.1</td></tr><tr><td>IBM Q Provider</td><td>0.11.1</td></tr><tr><th>System information</th></tr><tr><td>Python</td><td>3.7.9 (default, Aug 31 2020, 12:42:55) \n",
       "[GCC 7.3.0]</td></tr><tr><td>OS</td><td>Linux</td></tr><tr><td>CPUs</td><td>12</td></tr><tr><td>Memory (Gb)</td><td>251.8447723388672</td></tr><tr><td colspan='2'>Sat Dec 19 23:24:36 2020 CST</td></tr></table>"
      ],
      "text/plain": [
       "<IPython.core.display.HTML object>"
      ]
     },
     "metadata": {},
     "output_type": "display_data"
    }
   ],
   "source": [
    "from qiskit import QuantumCircuit\n",
    "from qiskit.circuit import Parameter,ParameterVector\n",
    "import qiskit.tools.jupyter \n",
    "%qiskit_version_table"
   ]
  },
  {
   "cell_type": "markdown",
   "metadata": {},
   "source": [
    "# Unitary Implementation"
   ]
  },
  {
   "cell_type": "markdown",
   "metadata": {},
   "source": [
    "## Elementary quantum gates"
   ]
  },
  {
   "cell_type": "markdown",
   "metadata": {},
   "source": [
    "### Single Qubit Gates"
   ]
  },
  {
   "cell_type": "markdown",
   "metadata": {},
   "source": [
    "\n",
    "$I=\\begin{pmatrix} 1 & 0 \\\\ 0 & 1 \\end{pmatrix}, \\quad$ $X=\\begin{pmatrix} 0 & 1 \\\\ 1 & 0 \\end{pmatrix}, \\quad$ $Y=\\begin{pmatrix} 0 & -i \\\\ i & 0 \\end{pmatrix}, \\quad$ $Z=\\begin{pmatrix} 1 & 0 \\\\ 0 & -1 \\end{pmatrix}, \\quad$ $H=\\frac{1}{\\sqrt{2}} \\begin{pmatrix} 1 & 1 \\\\ 1 & -1 \\end{pmatrix}, \\quad$ $S=\\begin{pmatrix} 1 & 0 \\\\ 0 & i \\end{pmatrix}, \\quad$"
   ]
  },
  {
   "cell_type": "code",
   "execution_count": 3,
   "metadata": {},
   "outputs": [],
   "source": [
    "# Paulis\n",
    "Id=Matrix([[1,0],[0,1]])\n",
    "PauliX=Matrix([[0,1],[1,0]])\n",
    "PauliY=Matrix([[0,-I],[I,0]])\n",
    "PauliZ=Matrix([[1,0],[0,-1]])\n",
    "H=Matrix([[1,1],[1,-1]])/sqrt(2)\n",
    "S=Matrix([[1,0],[0,I]])"
   ]
  },
  {
   "cell_type": "markdown",
   "metadata": {},
   "source": [
    "#### $R_x$ rotation"
   ]
  },
  {
   "cell_type": "markdown",
   "metadata": {},
   "source": [
    "$R_x(\\theta)=\\begin{pmatrix}\\cos(\\frac{\\theta}{2}) & -i \\sin(\\frac{\\theta}{2}) \\\\ -i\\sin(\\frac{\\theta}{2}) & \\cos(\\frac{\\theta}{2})\\end{pmatrix} $"
   ]
  },
  {
   "cell_type": "code",
   "execution_count": 4,
   "metadata": {},
   "outputs": [
    {
     "data": {
      "text/latex": [
       "$\\displaystyle \\left[\\begin{matrix}\\cos{\\left(\\frac{\\theta}{2} \\right)} & - i \\sin{\\left(\\frac{\\theta}{2} \\right)}\\\\- i \\sin{\\left(\\frac{\\theta}{2} \\right)} & \\cos{\\left(\\frac{\\theta}{2} \\right)}\\end{matrix}\\right]$"
      ],
      "text/plain": [
       "Matrix([\n",
       "[   cos(theta/2), -I*sin(theta/2)],\n",
       "[-I*sin(theta/2),    cos(theta/2)]])"
      ]
     },
     "execution_count": 4,
     "metadata": {},
     "output_type": "execute_result"
    }
   ],
   "source": [
    "# Rx rotation\n",
    "Rx=Matrix([[cos(theta/2),-I*sin(theta/2)],[-I*sin(theta/2),cos(theta/2)]])\n",
    "Rx"
   ]
  },
  {
   "cell_type": "markdown",
   "metadata": {},
   "source": [
    "#### $R_y$ rotation"
   ]
  },
  {
   "cell_type": "markdown",
   "metadata": {},
   "source": [
    "$R_y(\\theta)=\\begin{pmatrix}\\cos(\\frac{\\theta}{2}) & -\\sin(\\frac{\\theta}{2}) \\\\ \\sin(\\frac{\\theta}{2}) & \\cos(\\frac{\\theta}{2})\\end{pmatrix} $"
   ]
  },
  {
   "cell_type": "code",
   "execution_count": 5,
   "metadata": {},
   "outputs": [
    {
     "data": {
      "text/latex": [
       "$\\displaystyle \\left[\\begin{matrix}\\cos{\\left(\\frac{\\theta}{2} \\right)} & - \\sin{\\left(\\frac{\\theta}{2} \\right)}\\\\\\sin{\\left(\\frac{\\theta}{2} \\right)} & \\cos{\\left(\\frac{\\theta}{2} \\right)}\\end{matrix}\\right]$"
      ],
      "text/plain": [
       "Matrix([\n",
       "[cos(theta/2), -sin(theta/2)],\n",
       "[sin(theta/2),  cos(theta/2)]])"
      ]
     },
     "execution_count": 5,
     "metadata": {},
     "output_type": "execute_result"
    }
   ],
   "source": [
    "# Ry rotation\n",
    "Ry=Matrix([[cos(theta/2),-sin(theta/2)],[sin(theta/2),cos(theta/2)]])\n",
    "Ry"
   ]
  },
  {
   "cell_type": "markdown",
   "metadata": {},
   "source": [
    "#### $R_z$ rotation"
   ]
  },
  {
   "cell_type": "markdown",
   "metadata": {},
   "source": [
    "$R_z(\\theta)=\\begin{pmatrix} e^{-i\\theta/2} & 0 \\\\ 0 & e^{i\\theta/2}\\end{pmatrix} $"
   ]
  },
  {
   "cell_type": "code",
   "execution_count": 6,
   "metadata": {},
   "outputs": [
    {
     "data": {
      "text/latex": [
       "$\\displaystyle \\left[\\begin{matrix}e^{- \\frac{i \\theta}{2}} & 0\\\\0 & e^{\\frac{i \\theta}{2}}\\end{matrix}\\right]$"
      ],
      "text/plain": [
       "Matrix([\n",
       "[exp(-I*theta/2),              0],\n",
       "[              0, exp(I*theta/2)]])"
      ]
     },
     "execution_count": 6,
     "metadata": {},
     "output_type": "execute_result"
    }
   ],
   "source": [
    "# Rz rotation\n",
    "Rz=Matrix([[exp(-I*theta/2),0],[0,exp(I*theta/2)]])\n",
    "Rz"
   ]
  },
  {
   "cell_type": "markdown",
   "metadata": {},
   "source": [
    "### Multiple Qubit Gates"
   ]
  },
  {
   "cell_type": "markdown",
   "metadata": {},
   "source": [
    "#### CNOT Gate"
   ]
  },
  {
   "cell_type": "markdown",
   "metadata": {},
   "source": [
    "CNOT = $\\begin{pmatrix}\n",
    "1 &0  &0  &0 \\\\ \n",
    " 0&  1&  0& 0\\\\ \n",
    " 0& 0 &0  &1 \\\\ \n",
    " 0& 0 & 1 &0 \n",
    "\\end{pmatrix}, \\,$  flip target qubit when controled qubit is 1"
   ]
  },
  {
   "cell_type": "code",
   "execution_count": 7,
   "metadata": {},
   "outputs": [
    {
     "data": {
      "text/latex": [
       "$\\displaystyle \\left[\\begin{matrix}1 & 0 & 0 & 0\\\\0 & 1 & 0 & 0\\\\0 & 0 & 0 & 1\\\\0 & 0 & 1 & 0\\end{matrix}\\right]$"
      ],
      "text/plain": [
       "Matrix([\n",
       "[1, 0, 0, 0],\n",
       "[0, 1, 0, 0],\n",
       "[0, 0, 0, 1],\n",
       "[0, 0, 1, 0]])"
      ]
     },
     "execution_count": 7,
     "metadata": {},
     "output_type": "execute_result"
    }
   ],
   "source": [
    "CNOT=Matrix([[1,0,0,0],[0,1,0,0],[0,0,0,1],[0,0,1,0]])\n",
    "CNOT"
   ]
  },
  {
   "cell_type": "markdown",
   "metadata": {},
   "source": [
    "## Example -1"
   ]
  },
  {
   "cell_type": "markdown",
   "metadata": {},
   "source": [
    "<b> H </b> $=Z_1 \\otimes Z_2$, we want implement  $e^{-i \\frac{\\theta}{2} (Z_1 \\otimes Z_2)}$ on quantum computer  \n",
    "First, direct multiply the matrix and we can see:"
   ]
  },
  {
   "cell_type": "code",
   "execution_count": 8,
   "metadata": {
    "scrolled": true
   },
   "outputs": [
    {
     "data": {
      "text/latex": [
       "$\\displaystyle \\left[\\begin{matrix}e^{- \\frac{i \\theta}{2}} & 0 & 0 & 0\\\\0 & e^{\\frac{i \\theta}{2}} & 0 & 0\\\\0 & 0 & e^{\\frac{i \\theta}{2}} & 0\\\\0 & 0 & 0 & e^{- \\frac{i \\theta}{2}}\\end{matrix}\\right]$"
      ],
      "text/plain": [
       "Matrix([\n",
       "[exp(-I*theta/2),              0,              0,               0],\n",
       "[              0, exp(I*theta/2),              0,               0],\n",
       "[              0,              0, exp(I*theta/2),               0],\n",
       "[              0,              0,              0, exp(-I*theta/2)]])"
      ]
     },
     "execution_count": 8,
     "metadata": {},
     "output_type": "execute_result"
    }
   ],
   "source": [
    "ex1_ans=exp(-I*theta/2*TensorProduct(PauliZ,PauliZ))\n",
    "ex1_ans"
   ]
  },
  {
   "cell_type": "markdown",
   "metadata": {},
   "source": [
    "First, we know that   "
   ]
  },
  {
   "cell_type": "markdown",
   "metadata": {},
   "source": [
    "1. $Z|f\\rangle=(-1)^f|f\\rangle$   "
   ]
  },
  {
   "cell_type": "markdown",
   "metadata": {},
   "source": [
    "2. $e^Z|f \\rangle=e^{(-1)^f}|f\\rangle$  "
   ]
  },
  {
   "cell_type": "markdown",
   "metadata": {},
   "source": [
    "$ \\implies e^{-i \\frac{\\theta}{2} (Z_1 \\otimes Z_2)} |f_1,f_2 \\rangle=e^{-i \\frac{\\theta}{2} (-1)^{f_1\\oplus f_2}} |f_1,f_2 \\rangle$"
   ]
  },
  {
   "cell_type": "markdown",
   "metadata": {},
   "source": [
    "3. $R_z(\\theta)|f\\rangle = e^{-i \\frac{\\theta}{2} (-1)^f}| f\\rangle$"
   ]
  },
  {
   "cell_type": "markdown",
   "metadata": {},
   "source": [
    "## Quantum Circuit Implementation"
   ]
  },
  {
   "cell_type": "markdown",
   "metadata": {},
   "source": [
    "### CNOT  ($I_0 \\otimes R_{z_1}(\\theta)$)  CNOT"
   ]
  },
  {
   "cell_type": "markdown",
   "metadata": {},
   "source": [
    "$|f_1,f_2 \\rangle \\implies |f_1,f_1 \\oplus f_2 \\rangle \\implies e^{-i\\frac{\\theta}{2} (-1)^{f_1 \\otimes f_2}} \\; |f_1,f_1 \\oplus f_2 \\rangle \\implies e^{-i\\frac{\\theta}{2} (-1)^{f_1 \\otimes f_2}} \\;|f_1,f_2 \\rangle $"
   ]
  },
  {
   "cell_type": "code",
   "execution_count": 9,
   "metadata": {
    "scrolled": true
   },
   "outputs": [
    {
     "data": {
      "image/png": "[encoded data removed]",
      "text/plain": [
       "<Figure size 267.052x144.48 with 1 Axes>"
      ]
     },
     "execution_count": 9,
     "metadata": {},
     "output_type": "execute_result"
    }
   ],
   "source": [
    "t=Parameter('$\\Theta$')\n",
    "ex1circ=QuantumCircuit(2)\n",
    "ex1circ.cx(0,1)\n",
    "ex1circ.rz(t,1)\n",
    "ex1circ.cx(0,1)\n",
    "ex1circ.draw('mpl')"
   ]
  },
  {
   "cell_type": "markdown",
   "metadata": {},
   "source": [
    "$e^{-i \\frac{\\theta}{2} (-1)^{f_1\\oplus f_2}} \\; |f_1,f_2 \\rangle = (CNOT_{0,1}) \\, I_0 \\otimes R_{z_1}(\\theta) \\,(CNOT_{0,1})$"
   ]
  },
  {
   "cell_type": "code",
   "execution_count": 10,
   "metadata": {
    "scrolled": false
   },
   "outputs": [
    {
     "name": "stdout",
     "output_type": "stream",
     "text": [
      "Equal?  True\n"
     ]
    },
    {
     "data": {
      "text/latex": [
       "$\\displaystyle \\left[\\begin{matrix}e^{- \\frac{i \\theta}{2}} & 0 & 0 & 0\\\\0 & e^{\\frac{i \\theta}{2}} & 0 & 0\\\\0 & 0 & e^{\\frac{i \\theta}{2}} & 0\\\\0 & 0 & 0 & e^{- \\frac{i \\theta}{2}}\\end{matrix}\\right]$"
      ],
      "text/plain": [
       "Matrix([\n",
       "[exp(-I*theta/2),              0,              0,               0],\n",
       "[              0, exp(I*theta/2),              0,               0],\n",
       "[              0,              0, exp(I*theta/2),               0],\n",
       "[              0,              0,              0, exp(-I*theta/2)]])"
      ]
     },
     "execution_count": 10,
     "metadata": {},
     "output_type": "execute_result"
    }
   ],
   "source": [
    "circex1_ans=CNOT*TensorProduct(Id,Rz)*CNOT\n",
    "print(\"Equal? \",circex1_ans==ex1_ans)\n",
    "circex1_ans"
   ]
  },
  {
   "cell_type": "markdown",
   "metadata": {},
   "source": [
    "## Example - 2"
   ]
  },
  {
   "cell_type": "markdown",
   "metadata": {},
   "source": [
    "<b> H </b> $=Z_1\\otimes Z_2 \\otimes Z_3$, we want implement  $e^{-i \\frac{\\theta}{2} (Z_1 \\otimes Z_2 \\otimes Z_3)}$ on quantum computer  "
   ]
  },
  {
   "cell_type": "markdown",
   "metadata": {},
   "source": [
    "Matrix Multiplication"
   ]
  },
  {
   "cell_type": "code",
   "execution_count": 11,
   "metadata": {},
   "outputs": [
    {
     "data": {
      "text/latex": [
       "$\\displaystyle \\left[\\begin{matrix}e^{- \\frac{i \\theta}{2}} & 0 & 0 & 0 & 0 & 0 & 0 & 0\\\\0 & e^{\\frac{i \\theta}{2}} & 0 & 0 & 0 & 0 & 0 & 0\\\\0 & 0 & e^{\\frac{i \\theta}{2}} & 0 & 0 & 0 & 0 & 0\\\\0 & 0 & 0 & e^{- \\frac{i \\theta}{2}} & 0 & 0 & 0 & 0\\\\0 & 0 & 0 & 0 & e^{\\frac{i \\theta}{2}} & 0 & 0 & 0\\\\0 & 0 & 0 & 0 & 0 & e^{- \\frac{i \\theta}{2}} & 0 & 0\\\\0 & 0 & 0 & 0 & 0 & 0 & e^{- \\frac{i \\theta}{2}} & 0\\\\0 & 0 & 0 & 0 & 0 & 0 & 0 & e^{\\frac{i \\theta}{2}}\\end{matrix}\\right]$"
      ],
      "text/plain": [
       "Matrix([\n",
       "[exp(-I*theta/2),              0,              0,               0,              0,               0,               0,              0],\n",
       "[              0, exp(I*theta/2),              0,               0,              0,               0,               0,              0],\n",
       "[              0,              0, exp(I*theta/2),               0,              0,               0,               0,              0],\n",
       "[              0,              0,              0, exp(-I*theta/2),              0,               0,               0,              0],\n",
       "[              0,              0,              0,               0, exp(I*theta/2),               0,               0,              0],\n",
       "[              0,              0,              0,               0,              0, exp(-I*theta/2),               0,              0],\n",
       "[              0,              0,              0,               0,              0,               0, exp(-I*theta/2),              0],\n",
       "[              0,              0,              0,               0,              0,               0,               0, exp(I*theta/2)]])"
      ]
     },
     "execution_count": 11,
     "metadata": {},
     "output_type": "execute_result"
    }
   ],
   "source": [
    "ex2_ans=exp(-I*theta/2*TensorProduct(PauliZ,TensorProduct(PauliZ,PauliZ)))\n",
    "ex2_ans"
   ]
  },
  {
   "cell_type": "markdown",
   "metadata": {},
   "source": [
    "Quantum Circuit"
   ]
  },
  {
   "cell_type": "markdown",
   "metadata": {},
   "source": [
    "$(CNOT_{0,1}\\otimes I_2) \\, (I_0\\otimes CNOT_{1,2})\\, (I_0 \\otimes I_1 \\otimes R_{z2}(\\theta)) \\,(I_0\\otimes CNOT_{1,2}) \\,(CNOT_{0,1}\\otimes I_2) $"
   ]
  },
  {
   "cell_type": "code",
   "execution_count": 12,
   "metadata": {
    "scrolled": false
   },
   "outputs": [
    {
     "data": {
      "image/png": "[encoded data removed]",
      "text/plain": [
       "<Figure size 387.597x204.68 with 1 Axes>"
      ]
     },
     "execution_count": 12,
     "metadata": {},
     "output_type": "execute_result"
    }
   ],
   "source": [
    "t=Parameter('$\\Theta$')\n",
    "ex2circ=QuantumCircuit(3)\n",
    "ex2circ.cx(0,1)\n",
    "ex2circ.cx(1,2)\n",
    "ex2circ.rz(t,2)\n",
    "ex2circ.cx(1,2)\n",
    "ex2circ.cx(0,1)\n",
    "ex2circ.draw('mpl')"
   ]
  },
  {
   "cell_type": "code",
   "execution_count": 13,
   "metadata": {
    "scrolled": false
   },
   "outputs": [
    {
     "name": "stdout",
     "output_type": "stream",
     "text": [
      "Equal?  True\n"
     ]
    },
    {
     "data": {
      "text/latex": [
       "$\\displaystyle \\left[\\begin{matrix}e^{- \\frac{i \\theta}{2}} & 0 & 0 & 0 & 0 & 0 & 0 & 0\\\\0 & e^{\\frac{i \\theta}{2}} & 0 & 0 & 0 & 0 & 0 & 0\\\\0 & 0 & e^{\\frac{i \\theta}{2}} & 0 & 0 & 0 & 0 & 0\\\\0 & 0 & 0 & e^{- \\frac{i \\theta}{2}} & 0 & 0 & 0 & 0\\\\0 & 0 & 0 & 0 & e^{\\frac{i \\theta}{2}} & 0 & 0 & 0\\\\0 & 0 & 0 & 0 & 0 & e^{- \\frac{i \\theta}{2}} & 0 & 0\\\\0 & 0 & 0 & 0 & 0 & 0 & e^{- \\frac{i \\theta}{2}} & 0\\\\0 & 0 & 0 & 0 & 0 & 0 & 0 & e^{\\frac{i \\theta}{2}}\\end{matrix}\\right]$"
      ],
      "text/plain": [
       "Matrix([\n",
       "[exp(-I*theta/2),              0,              0,               0,              0,               0,               0,              0],\n",
       "[              0, exp(I*theta/2),              0,               0,              0,               0,               0,              0],\n",
       "[              0,              0, exp(I*theta/2),               0,              0,               0,               0,              0],\n",
       "[              0,              0,              0, exp(-I*theta/2),              0,               0,               0,              0],\n",
       "[              0,              0,              0,               0, exp(I*theta/2),               0,               0,              0],\n",
       "[              0,              0,              0,               0,              0, exp(-I*theta/2),               0,              0],\n",
       "[              0,              0,              0,               0,              0,               0, exp(-I*theta/2),              0],\n",
       "[              0,              0,              0,               0,              0,               0,               0, exp(I*theta/2)]])"
      ]
     },
     "execution_count": 13,
     "metadata": {},
     "output_type": "execute_result"
    }
   ],
   "source": [
    "circex2_ans=TensorProduct(CNOT,Id)*TensorProduct(Id,CNOT)*TensorProduct(TensorProduct(Id,Id),Rz)*TensorProduct(Id,CNOT)*TensorProduct(CNOT,Id)\n",
    "print(\"Equal? \",circex2_ans==ex2_ans)\n",
    "circex2_ans"
   ]
  },
  {
   "cell_type": "markdown",
   "metadata": {},
   "source": [
    "# Example - 2 "
   ]
  },
  {
   "cell_type": "markdown",
   "metadata": {},
   "source": [
    "<b> H </b> $=X_1\\otimes Y_2 \\otimes Z_3$"
   ]
  },
  {
   "cell_type": "markdown",
   "metadata": {},
   "source": [
    "#### Some Math\n",
    "Tensor product property: $(A \\otimes B )( C\\otimes D)= (AC\\otimes BD)$  \n",
    "Circuit identities:   \n",
    "1. $HXH=Z$  also we can use $R_y(-\\frac{\\pi}{2})XR_y(\\frac{\\pi}{2})=Z$,  note that $R_y(\\frac{\\pi}{2})^\\dagger=R_y(-\\frac{\\pi}{2})$"
   ]
  },
  {
   "cell_type": "code",
   "execution_count": 14,
   "metadata": {
    "scrolled": true
   },
   "outputs": [
    {
     "data": {
      "text/latex": [
       "$\\displaystyle \\left[\\begin{matrix}1 & 0\\\\0 & -1\\end{matrix}\\right]$"
      ],
      "text/plain": [
       "Matrix([\n",
       "[1,  0],\n",
       "[0, -1]])"
      ]
     },
     "execution_count": 14,
     "metadata": {},
     "output_type": "execute_result"
    }
   ],
   "source": [
    "H*PauliX*H"
   ]
  },
  {
   "cell_type": "code",
   "execution_count": 15,
   "metadata": {},
   "outputs": [
    {
     "name": "stdout",
     "output_type": "stream",
     "text": [
      "Matrix = Z ? True\n"
     ]
    },
    {
     "data": {
      "text/latex": [
       "$\\displaystyle \\left[\\begin{matrix}1 & 0\\\\0 & -1\\end{matrix}\\right]$"
      ],
      "text/plain": [
       "Matrix([\n",
       "[1,  0],\n",
       "[0, -1]])"
      ]
     },
     "execution_count": 15,
     "metadata": {},
     "output_type": "execute_result"
    }
   ],
   "source": [
    "# Dagger(Ry_plus)=Ry_minus\n",
    "Ry_plus=Ry.subs({theta:pi/2})\n",
    "Ry_minus=Ry.subs({theta:-pi/2})\n",
    "print(\"Matrix = Z ?\",Ry_minus*PauliX*Ry_plus==PauliZ)\n",
    "Ry_minus*PauliX*Ry_plus"
   ]
  },
  {
   "cell_type": "markdown",
   "metadata": {},
   "source": [
    "2. $R_x(\\pi/2)YR_x(-\\pi/2)=Z$, note that $R_x(\\frac{\\pi}{2})^\\dagger=R_x(-\\frac{\\pi}{2})$"
   ]
  },
  {
   "cell_type": "code",
   "execution_count": 16,
   "metadata": {},
   "outputs": [],
   "source": [
    "# Rx(pi/2) Dagger(Rx_plus)=Rx_minus\n",
    "Rx_plus=Rx.subs({theta:pi/2})\n",
    "Rx_minus=Rx.subs({theta:-pi/2})"
   ]
  },
  {
   "cell_type": "code",
   "execution_count": 17,
   "metadata": {
    "scrolled": false
   },
   "outputs": [
    {
     "data": {
      "text/latex": [
       "$\\displaystyle \\left[\\begin{matrix}1 & 0\\\\0 & -1\\end{matrix}\\right]$"
      ],
      "text/plain": [
       "Matrix([\n",
       "[1,  0],\n",
       "[0, -1]])"
      ]
     },
     "execution_count": 17,
     "metadata": {},
     "output_type": "execute_result"
    }
   ],
   "source": [
    "identity2=Rx_plus*PauliY*Rx_minus\n",
    "identity2"
   ]
  },
  {
   "cell_type": "markdown",
   "metadata": {},
   "source": [
    "3. $(A_1 \\otimes B_1 \\otimes C_1) (A_2 \\otimes B_2 \\otimes C_2) (A_3 \\otimes B_3 \\otimes C_3)$"
   ]
  },
  {
   "cell_type": "markdown",
   "metadata": {},
   "source": [
    "   $ \\quad =(A_1A_2A_3 \\otimes B_1 B_2 B_3 \\otimes C_1 C_2 C_3)$"
   ]
  },
  {
   "cell_type": "markdown",
   "metadata": {},
   "source": [
    "#### Now we can rewrite Hamiltonian as following:"
   ]
  },
  {
   "cell_type": "markdown",
   "metadata": {},
   "source": [
    "<b> H </b> $=X_1 \\otimes Y_2 \\otimes Z_3 = (HZ_1H) \\otimes (R_{x}(-\\frac{\\pi}{2}) Z_2 R_{x}(\\frac{\\pi}{2}) )\\otimes IZ_3I $"
   ]
  },
  {
   "cell_type": "markdown",
   "metadata": {},
   "source": [
    "$ =(H \\otimes R_{x}(-\\frac{\\pi}{2}) \\otimes I)\\, (Z_1\\otimes Z_2 \\otimes Z_3)\\, (H \\otimes R_{x}(\\frac{\\pi}{2}) \\otimes I)$"
   ]
  },
  {
   "cell_type": "markdown",
   "metadata": {},
   "source": [
    "Then:  $e^{-i \\frac{\\theta}{2} (X_1 \\otimes Y_2 \\otimes Z_3)}$ can be implemented as:"
   ]
  },
  {
   "cell_type": "code",
   "execution_count": 18,
   "metadata": {
    "scrolled": false
   },
   "outputs": [
    {
     "data": {
      "text/latex": [
       "$\\displaystyle \\left[\\begin{matrix}\\cos{\\left(\\frac{\\theta}{2} \\right)} & 0 & 0 & 0 & 0 & 0 & - \\sin{\\left(\\frac{\\theta}{2} \\right)} & 0\\\\0 & \\cos{\\left(\\frac{\\theta}{2} \\right)} & 0 & 0 & 0 & 0 & 0 & \\sin{\\left(\\frac{\\theta}{2} \\right)}\\\\0 & 0 & \\cos{\\left(\\frac{\\theta}{2} \\right)} & 0 & \\sin{\\left(\\frac{\\theta}{2} \\right)} & 0 & 0 & 0\\\\0 & 0 & 0 & \\cos{\\left(\\frac{\\theta}{2} \\right)} & 0 & - \\sin{\\left(\\frac{\\theta}{2} \\right)} & 0 & 0\\\\0 & 0 & - \\sin{\\left(\\frac{\\theta}{2} \\right)} & 0 & \\cos{\\left(\\frac{\\theta}{2} \\right)} & 0 & 0 & 0\\\\0 & 0 & 0 & \\sin{\\left(\\frac{\\theta}{2} \\right)} & 0 & \\cos{\\left(\\frac{\\theta}{2} \\right)} & 0 & 0\\\\\\sin{\\left(\\frac{\\theta}{2} \\right)} & 0 & 0 & 0 & 0 & 0 & \\cos{\\left(\\frac{\\theta}{2} \\right)} & 0\\\\0 & - \\sin{\\left(\\frac{\\theta}{2} \\right)} & 0 & 0 & 0 & 0 & 0 & \\cos{\\left(\\frac{\\theta}{2} \\right)}\\end{matrix}\\right]$"
      ],
      "text/plain": [
       "Matrix([\n",
       "[cos(theta/2),             0,             0,            0,            0,             0, -sin(theta/2),            0],\n",
       "[           0,  cos(theta/2),             0,            0,            0,             0,             0, sin(theta/2)],\n",
       "[           0,             0,  cos(theta/2),            0, sin(theta/2),             0,             0,            0],\n",
       "[           0,             0,             0, cos(theta/2),            0, -sin(theta/2),             0,            0],\n",
       "[           0,             0, -sin(theta/2),            0, cos(theta/2),             0,             0,            0],\n",
       "[           0,             0,             0, sin(theta/2),            0,  cos(theta/2),             0,            0],\n",
       "[sin(theta/2),             0,             0,            0,            0,             0,  cos(theta/2),            0],\n",
       "[           0, -sin(theta/2),             0,            0,            0,             0,             0, cos(theta/2)]])"
      ]
     },
     "execution_count": 18,
     "metadata": {},
     "output_type": "execute_result"
    }
   ],
   "source": [
    "ex3_ans=exp(-I*theta/2*TensorProduct(PauliX,TensorProduct(PauliY,PauliZ)))\n",
    "ex3_ans"
   ]
  },
  {
   "cell_type": "code",
   "execution_count": 19,
   "metadata": {
    "scrolled": true
   },
   "outputs": [
    {
     "data": {
      "image/png": "[encoded data removed]",
      "text/plain": [
       "<Figure size 628.397x204.68 with 1 Axes>"
      ]
     },
     "execution_count": 19,
     "metadata": {},
     "output_type": "execute_result"
    }
   ],
   "source": [
    "t=Parameter('$\\Theta$')\n",
    "ex3circ=QuantumCircuit(3)\n",
    "ex3circ.h(0)\n",
    "ex3circ.rx(-math.pi/2,1)\n",
    "ex3circ.id(2)\n",
    "ex3circ.barrier()\n",
    "ex3circ.cx(0,1)\n",
    "ex3circ.cx(1,2)\n",
    "ex3circ.rz(t,2)\n",
    "ex3circ.cx(1,2)\n",
    "ex3circ.cx(0,1)\n",
    "ex3circ.barrier()\n",
    "ex3circ.rx(math.pi/2,1)\n",
    "ex3circ.h(0)\n",
    "ex3circ.id(2)\n",
    "ex3circ.draw('mpl')"
   ]
  },
  {
   "cell_type": "code",
   "execution_count": 20,
   "metadata": {
    "scrolled": true
   },
   "outputs": [
    {
     "name": "stdout",
     "output_type": "stream",
     "text": [
      "Equal ?  True\n"
     ]
    }
   ],
   "source": [
    "circex3_ans=simplify(TensorProduct(TensorProduct(H,Rx_minus),Id)*circex2_ans*TensorProduct(TensorProduct(H,Rx_plus),Id))\n",
    "print(\"Equal ? \",circex3_ans==ex3_ans)"
   ]
  },
  {
   "cell_type": "markdown",
   "metadata": {},
   "source": [
    "# Measurement : Calculating the expectation value of target Hamiltonian "
   ]
  },
  {
   "cell_type": "markdown",
   "metadata": {},
   "source": [
    "Given Hamiltonian <b> H </b> and the state $|\\psi\\rangle$, how to caculate expectation value of <b> H </b>  \n",
    "i.e   $\\quad \\langle\\psi|$<b> H </b> $|\\psi\\rangle= \\sum_j a_j |\\langle \\psi|\\phi_j\\rangle|^2$, where $\\phi_j$ is eigenvector with corresponding eigenvalue $a_j$"
   ]
  },
  {
   "cell_type": "markdown",
   "metadata": {},
   "source": [
    "For Pauli-terms Hamiltonian , $\\quad \\langle \\psi|$<b> H </b> $|\\psi\\rangle= \\sum_j a_j |\\langle \\psi|\\phi_j\\rangle|^2 =(\\langle \\psi|\\phi_{+}\\rangle)^2-(\\langle \\psi|\\phi_{-}\\rangle)^2 $"
   ]
  },
  {
   "cell_type": "markdown",
   "metadata": {},
   "source": [
    "A single qubit can written as $|\\psi \\rangle =\\alpha |0 \\rangle + \\beta |1\\rangle$, with $|\\alpha|^2+|\\beta|^2=1$, a convenient representation is $\\alpha= \\cos(\\frac{\\theta}{2}), \\quad \\beta = e^{i\\phi}\\sin(\\frac{\\theta}{2})$ "
   ]
  },
  {
   "cell_type": "markdown",
   "metadata": {},
   "source": [
    "$|\\psi \\rangle= \\cos(\\frac{\\theta}{2})|0\\rangle + e^{i\\phi}\\sin(\\frac{\\theta}{2})|1\\rangle $"
   ]
  },
  {
   "cell_type": "code",
   "execution_count": 21,
   "metadata": {},
   "outputs": [
    {
     "data": {
      "text/latex": [
       "$\\displaystyle \\left[\\begin{matrix}\\cos{\\left(\\frac{\\theta}{2} \\right)}\\\\e^{i \\phi} \\sin{\\left(\\frac{\\theta}{2} \\right)}\\end{matrix}\\right]$"
      ],
      "text/plain": [
       "Matrix([\n",
       "[           cos(theta/2)],\n",
       "[exp(I*phi)*sin(theta/2)]])"
      ]
     },
     "execution_count": 21,
     "metadata": {},
     "output_type": "execute_result"
    }
   ],
   "source": [
    "psi=Matrix([[cos(theta/2)],[sin(theta/2)*exp(I*phi)]])\n",
    "psi"
   ]
  },
  {
   "cell_type": "markdown",
   "metadata": {},
   "source": [
    "### Example 4 "
   ]
  },
  {
   "cell_type": "markdown",
   "metadata": {},
   "source": [
    "<b> H </b>$=Z=\\begin{pmatrix} 1 & 0 \\\\ 0 & -1\\end{pmatrix}, \\quad $ with $|\\psi \\rangle=\\begin{pmatrix} \\alpha \\\\ \\beta \\end{pmatrix}$, "
   ]
  },
  {
   "cell_type": "markdown",
   "metadata": {},
   "source": [
    "$\\langle \\psi|$ <b> H </b>$|\\psi \\rangle=\\begin{pmatrix} \\alpha^* & \\beta^* \\end{pmatrix} \\begin{pmatrix} 1 & 0 \\\\ 0 & -1\\end{pmatrix} \\begin{pmatrix} \\alpha \\\\ \\beta \\end{pmatrix} = \\begin{pmatrix} \\alpha^* & \\beta^* \\end{pmatrix} \\begin{pmatrix} \\alpha \\\\ -\\beta \\end{pmatrix} =\\alpha^*\\alpha -\\beta^*\\beta =|\\alpha|^2-|\\beta|^2 = \\cos^2(\\frac{\\theta}{2})-\\sin^2(\\frac{\\theta}{2})$  \n",
    "That is : Probability of measuring the system to be in state $|0 \\rangle$(even) - Probability of measuring the system to be in state $|1 \\rangle$(odd) :  \n",
    "$P(0)-P(1)$ = $P(even)-P(odd)$"
   ]
  },
  {
   "cell_type": "code",
   "execution_count": 22,
   "metadata": {
    "scrolled": true
   },
   "outputs": [
    {
     "data": {
      "text/latex": [
       "$\\displaystyle \\left[\\begin{matrix}- \\sin^{2}{\\left(\\frac{\\theta}{2} \\right)} + \\cos^{2}{\\left(\\frac{\\theta}{2} \\right)}\\end{matrix}\\right]$"
      ],
      "text/plain": [
       "Matrix([[-sin(theta/2)**2 + cos(theta/2)**2]])"
      ]
     },
     "execution_count": 22,
     "metadata": {},
     "output_type": "execute_result"
    }
   ],
   "source": [
    "Dagger(psi)*PauliZ*psi"
   ]
  },
  {
   "cell_type": "markdown",
   "metadata": {},
   "source": [
    "Remember for Pauli-Z, its eigenvalue and corresponding eigenvector is : $+1:|\\phi_{z+} \\rangle=  \\begin{pmatrix} 1 \\\\ 0 \\end{pmatrix} = |0 \\rangle, \\quad -1:|\\phi_{z-} \\rangle=\\begin{pmatrix} 0 \\\\ 1 \\end{pmatrix} =|1 \\rangle $"
   ]
  },
  {
   "cell_type": "markdown",
   "metadata": {},
   "source": [
    "Hence $\\quad \\langle \\psi|$<b> Z </b>$|\\psi \\rangle =$ $\\sum_j a_j |\\langle \\psi|\\phi_{j_z}\\rangle|^2 =|\\langle \\psi|\\phi_{z+}\\rangle|^2-|\\langle \\psi|\\phi_{z-}\\rangle|^2=|\\langle \\psi|0 \\rangle|^2-|\\langle \\psi|1\\rangle|^2 $"
   ]
  },
  {
   "cell_type": "markdown",
   "metadata": {},
   "source": [
    "we can directly use z-measurement to estimate expectation value"
   ]
  },
  {
   "cell_type": "code",
   "execution_count": 23,
   "metadata": {},
   "outputs": [],
   "source": [
    "tq=ParameterVector(name='theta',length=3)"
   ]
  },
  {
   "cell_type": "code",
   "execution_count": 24,
   "metadata": {
    "scrolled": true
   },
   "outputs": [
    {
     "name": "stderr",
     "output_type": "stream",
     "text": [
      "/home/hcl/anaconda3/envs/newQ/lib/python3.7/site-packages/ipykernel_launcher.py:2: DeprecationWarning: The QuantumCircuit.u3 method is deprecated as of 0.16.0. It will be removed no earlier than 3 months after the release date. You should use QuantumCircuit.u instead, which acts identically. Alternatively, you can decompose u3 in terms of QuantumCircuit.p and QuantumCircuit.sx: u3(ϴ,φ,λ) = p(φ+π) sx p(ϴ+π) sx p(λ) (2 pulses on hardware).\n",
      "  \n"
     ]
    },
    {
     "data": {
      "image/png": "[encoded data removed]",
      "text/plain": [
       "<Figure size 452.494x144.48 with 1 Axes>"
      ]
     },
     "execution_count": 24,
     "metadata": {},
     "output_type": "execute_result"
    }
   ],
   "source": [
    "measure_z=QuantumCircuit(1)\n",
    "measure_z.u3(tq[0],tq[1],tq[2],0)\n",
    "measure_z.measure_active()\n",
    "measure_z.draw('mpl')"
   ]
  },
  {
   "cell_type": "markdown",
   "metadata": {},
   "source": [
    "### Example 5"
   ]
  },
  {
   "cell_type": "markdown",
   "metadata": {},
   "source": [
    "<b> H <b> $=X=\\begin{pmatrix} 0 & 1 \\\\ 1 & 0\\end{pmatrix}, \\quad $ with $|\\psi \\rangle=\\begin{pmatrix} \\alpha \\\\ \\beta \\end{pmatrix}$"
   ]
  },
  {
   "cell_type": "markdown",
   "metadata": {},
   "source": [
    "$\\langle \\psi|$ <b> H </b>$|\\psi \\rangle=\\begin{pmatrix} \\alpha^* & \\beta^* \\end{pmatrix} \\begin{pmatrix} 0 & 1 \\\\ 1 & 0\\end{pmatrix} \\begin{pmatrix} \\alpha \\\\ \\beta \\end{pmatrix} = \\begin{pmatrix} \\alpha^* & \\beta^* \\end{pmatrix} \\begin{pmatrix} \\beta \\\\ \\alpha \\end{pmatrix} =\\alpha^*\\beta -\\beta^*\\alpha = \\sin(\\theta) \\cos(\\phi)$  \n"
   ]
  },
  {
   "cell_type": "markdown",
   "metadata": {},
   "source": [
    "How to implement on quantum computer? remember for X the corresponding eigenvalue and eigenvector is:"
   ]
  },
  {
   "cell_type": "markdown",
   "metadata": {},
   "source": [
    "$+1:|\\phi_{x+} \\rangle= \\frac{1}{\\sqrt{2}} \\begin{pmatrix} 1 \\\\ 1 \\end{pmatrix} = H|0 \\rangle, \\quad -1:|\\phi_{x-} \\rangle=\\frac{1}{\\sqrt{2}} \\begin{pmatrix} 1 \\\\ -1 \\end{pmatrix} =H|1 \\rangle $"
   ]
  },
  {
   "cell_type": "markdown",
   "metadata": {},
   "source": [
    "Since $\\quad  \\langle \\psi|X|\\psi \\rangle= \\sum_j a_j |\\langle \\psi|\\phi_{j_x} \\rangle|^2 =\\sum_j a_j |\\langle\\psi|I|\\phi_{j_x} \\rangle|^2=\\sum_j a_j |\\langle\\psi|HH|\\phi_{j_x} \\rangle|^2$ "
   ]
  },
  {
   "cell_type": "markdown",
   "metadata": {},
   "source": [
    "rewrite the above equation and we can get $\\quad \\langle \\psi|$<b>X<b>$| \\psi \\rangle=\\sum_j a_j |\\langle \\psi|HH|\\phi_{j_x}\\rangle|^2 = |\\langle H \\psi|0 \\rangle|^2-|\\langle H \\psi|1\\rangle|^2 $"
   ]
  },
  {
   "cell_type": "markdown",
   "metadata": {},
   "source": [
    "That is: Before measurement, apply hadamard gate on corresponding qubit!"
   ]
  },
  {
   "cell_type": "code",
   "execution_count": 25,
   "metadata": {},
   "outputs": [
    {
     "data": {
      "image/png": "[encoded data removed]",
      "text/plain": [
       "<Figure size 478.079x144.48 with 1 Axes>"
      ]
     },
     "execution_count": 25,
     "metadata": {},
     "output_type": "execute_result"
    }
   ],
   "source": [
    "measure_x=QuantumCircuit(1)\n",
    "measure_x.u3(tq[0],tq[1],tq[2],0)\n",
    "measure_x.h(0)\n",
    "measure_x.measure_all()\n",
    "measure_x.draw('mpl')"
   ]
  },
  {
   "cell_type": "code",
   "execution_count": 26,
   "metadata": {},
   "outputs": [
    {
     "data": {
      "text/latex": [
       "$\\displaystyle \\sin{\\left(\\theta \\right)} \\cos{\\left(\\phi \\right)}$"
      ],
      "text/plain": [
       "sin(theta)*cos(phi)"
      ]
     },
     "execution_count": 26,
     "metadata": {},
     "output_type": "execute_result"
    }
   ],
   "source": [
    "simplify((abs(H*psi)[0])**2-abs((H*psi)[1])**2)"
   ]
  },
  {
   "cell_type": "code",
   "execution_count": 27,
   "metadata": {
    "scrolled": true
   },
   "outputs": [
    {
     "data": {
      "text/latex": [
       "$\\displaystyle \\sin{\\left(\\theta \\right)} \\cos{\\left(\\phi \\right)}$"
      ],
      "text/plain": [
       "sin(theta)*cos(phi)"
      ]
     },
     "execution_count": 27,
     "metadata": {},
     "output_type": "execute_result"
    }
   ],
   "source": [
    "simplify((abs(Ry_minus*psi)[0])**2-abs((Ry_minus*psi)[1])**2)"
   ]
  },
  {
   "cell_type": "markdown",
   "metadata": {},
   "source": [
    "### Example 6"
   ]
  },
  {
   "cell_type": "markdown",
   "metadata": {},
   "source": [
    "<b> H <b>$=Y=\\begin{pmatrix} 0 & -i \\\\ i & 0\\end{pmatrix}, \\quad $ with $|\\psi \\rangle=\\begin{pmatrix} \\alpha \\\\ \\beta \\end{pmatrix}$, for single qubit, a convenient representation is $\\alpha= \\cos(\\frac{\\theta}{2}), \\quad \\beta = e^{i\\phi}\\sin(\\frac{\\theta}{2})$ "
   ]
  },
  {
   "cell_type": "markdown",
   "metadata": {},
   "source": [
    "$ \\langle \\psi|Y|\\psi \\rangle=\\begin{pmatrix} \\alpha^* & \\beta^* \\end{pmatrix} \\begin{pmatrix} 0 & -i \\\\ i & 0\\end{pmatrix} \\begin{pmatrix} \\alpha \\\\ \\beta \\end{pmatrix} = \\begin{pmatrix} \\alpha^* & \\beta^* \\end{pmatrix} \\begin{pmatrix} -\\beta i \\\\ \\alpha i \\end{pmatrix} = - i \\alpha^*\\beta + i\\beta^*\\alpha = \\sin(\\phi) \\sin(\\theta)$  "
   ]
  },
  {
   "cell_type": "code",
   "execution_count": 28,
   "metadata": {
    "scrolled": false
   },
   "outputs": [
    {
     "data": {
      "text/latex": [
       "$\\displaystyle \\left[\\begin{matrix}\\sin{\\left(\\phi \\right)} \\sin{\\left(\\theta \\right)}\\end{matrix}\\right]$"
      ],
      "text/plain": [
       "Matrix([[sin(phi)*sin(theta)]])"
      ]
     },
     "execution_count": 28,
     "metadata": {},
     "output_type": "execute_result"
    }
   ],
   "source": [
    "simplify(Dagger(psi)*PauliY*psi)"
   ]
  },
  {
   "cell_type": "markdown",
   "metadata": {},
   "source": [
    "How to implement on quantum computer? remember for Pauli-Y the corresponding eigenvalue and eigenvector is:"
   ]
  },
  {
   "cell_type": "markdown",
   "metadata": {},
   "source": [
    "$+1:|\\phi_{y+} \\rangle = \\frac{1}{\\sqrt{2}} \\begin{pmatrix} 1 \\\\ i \\end{pmatrix} = R_x(\\frac{-\\pi}{2})|0 \\rangle, \\quad -1:|\\phi_{y-} \\rangle =\\frac{1}{\\sqrt{2}} \\begin{pmatrix} 1 \\\\ -i \\end{pmatrix} =-i R_x(\\frac{-\\pi}{2})|1\\rangle $"
   ]
  },
  {
   "cell_type": "code",
   "execution_count": 29,
   "metadata": {},
   "outputs": [],
   "source": [
    "y_plus=Matrix([[1],[I]])/sqrt(2)\n",
    "y_minus=Matrix([[1],[-I]])/sqrt(2)\n",
    "up_zero=Matrix([[1],[0]])\n",
    "down_one=Matrix([[0],[1]])"
   ]
  },
  {
   "cell_type": "markdown",
   "metadata": {},
   "source": [
    "That is, we have: $R_x(\\frac{\\pi}{2})|\\phi_{y+} \\rangle=|0 \\rangle, \\quad R_x(\\frac{\\pi}{2})|\\phi_{y-} \\rangle=-i|1 \\rangle$ "
   ]
  },
  {
   "cell_type": "markdown",
   "metadata": {},
   "source": [
    "Since $\\quad  \\langle \\psi|Y|\\psi \\rangle= \\sum_j a_j |\\langle \\psi|\\phi_{y_j} \\rangle|^2 =\\sum_j a_j |\\langle\\psi|I|\\phi_j \\rangle|^2=\\sum_j a_j |\\langle\\psi|R_x(\\frac{-\\pi}{2})R_x(\\frac{\\pi}{2})|\\phi_j \\rangle|^2$ "
   ]
  },
  {
   "cell_type": "markdown",
   "metadata": {},
   "source": [
    "rewrite the above equation and we can get $\\quad <\\psi|Y|\\psi>=\\sum_j a_j |\\langle\\psi|R_x(\\frac{-\\pi}{2})R_x(\\frac{\\pi}{2})|\\phi_j\\rangle|^2$"
   ]
  },
  {
   "cell_type": "markdown",
   "metadata": {},
   "source": [
    " $=|\\langle\\psi|R_x(\\frac{-\\pi}{2})|0\\rangle|^2-|\\langle \\psi|R_x(\\frac{-\\pi}{2})|1\\rangle|^2=|\\langle R_x(\\frac{\\pi}{2})\\psi|0\\rangle|^2-|\\langle R_x(\\frac{\\pi}{2})\\psi|1\\rangle|^2$"
   ]
  },
  {
   "cell_type": "code",
   "execution_count": 30,
   "metadata": {
    "scrolled": true
   },
   "outputs": [
    {
     "data": {
      "text/latex": [
       "$\\displaystyle \\left[\\begin{matrix}\\sin{\\left(\\phi \\right)} \\sin{\\left(\\theta \\right)}\\end{matrix}\\right]$"
      ],
      "text/plain": [
       "Matrix([[sin(phi)*sin(theta)]])"
      ]
     },
     "execution_count": 30,
     "metadata": {},
     "output_type": "execute_result"
    }
   ],
   "source": [
    "simplify(abs(Dagger(psi)*Rx_minus*up_zero)**2-abs(Dagger(psi)*Rx_minus*down_one)**2)"
   ]
  },
  {
   "cell_type": "markdown",
   "metadata": {},
   "source": [
    "To measure, we can apply $R_x(\\frac{\\theta}{2})$ before the measurement:"
   ]
  },
  {
   "cell_type": "code",
   "execution_count": 31,
   "metadata": {},
   "outputs": [
    {
     "data": {
      "image/png": "[encoded data removed]",
      "text/plain": [
       "<Figure size 478.079x144.48 with 1 Axes>"
      ]
     },
     "execution_count": 31,
     "metadata": {},
     "output_type": "execute_result"
    }
   ],
   "source": [
    "measure_y=QuantumCircuit(1)\n",
    "measure_y.u3(tq[0],tq[1],tq[2],0)\n",
    "measure_y.rx(math.pi/2,0)\n",
    "measure_y.measure_all()\n",
    "measure_y.draw('mpl')"
   ]
  },
  {
   "cell_type": "code",
   "execution_count": 32,
   "metadata": {
    "scrolled": true
   },
   "outputs": [
    {
     "data": {
      "text/latex": [
       "$\\displaystyle \\sin{\\left(\\phi \\right)} \\sin{\\left(\\theta \\right)}$"
      ],
      "text/plain": [
       "sin(phi)*sin(theta)"
      ]
     },
     "execution_count": 32,
     "metadata": {},
     "output_type": "execute_result"
    }
   ],
   "source": [
    "simplify((abs(Rx_plus*psi)[0])**2-abs((Rx_plus*psi)[1])**2)"
   ]
  },
  {
   "cell_type": "markdown",
   "metadata": {},
   "source": [
    "### Example 7"
   ]
  },
  {
   "cell_type": "markdown",
   "metadata": {},
   "source": [
    "Given <b> H<b> $=Z_1\\otimes Z_2 $ and $|\\psi \\rangle= \\alpha |00\\rangle + \\beta |01\\rangle + \\gamma |10\\rangle +\\delta |11\\rangle$"
   ]
  },
  {
   "cell_type": "markdown",
   "metadata": {},
   "source": [
    "$\\langle \\psi|$ <b>H<b>$|\\psi\\rangle=|\\alpha|^2 + |\\delta|^2 - (|\\beta|^2+|\\gamma|^2)$"
   ]
  },
  {
   "cell_type": "code",
   "execution_count": 33,
   "metadata": {},
   "outputs": [],
   "source": [
    "psi4=Matrix([[alpha],[beta],[gamma],[delta]])"
   ]
  },
  {
   "cell_type": "code",
   "execution_count": 34,
   "metadata": {},
   "outputs": [],
   "source": [
    "H4=TensorProduct(PauliZ,PauliZ)"
   ]
  },
  {
   "cell_type": "code",
   "execution_count": 35,
   "metadata": {},
   "outputs": [
    {
     "data": {
      "text/latex": [
       "$\\displaystyle \\left[\\begin{matrix}\\alpha \\overline{\\alpha} - \\beta \\overline{\\beta} + \\delta \\overline{\\delta} - \\gamma \\overline{\\gamma}\\end{matrix}\\right]$"
      ],
      "text/plain": [
       "Matrix([[alpha*conjugate(alpha) - beta*conjugate(beta) + delta*conjugate(delta) - gamma*conjugate(gamma)]])"
      ]
     },
     "execution_count": 35,
     "metadata": {},
     "output_type": "execute_result"
    }
   ],
   "source": [
    "simplify(Dagger(psi4)*H4*psi4)"
   ]
  },
  {
   "cell_type": "markdown",
   "metadata": {},
   "source": [
    "### Exercise (from Qosf) :"
   ]
  },
  {
   "cell_type": "markdown",
   "metadata": {},
   "source": [
    "Use VQE and above concept, find the lowest eigenvalue of the following matrix:"
   ]
  },
  {
   "cell_type": "code",
   "execution_count": 36,
   "metadata": {
    "scrolled": false
   },
   "outputs": [
    {
     "data": {
      "text/latex": [
       "$\\displaystyle \\left[\\begin{matrix}1 & 0 & 0 & 0\\\\0 & 0 & -1 & 0\\\\0 & -1 & 0 & 0\\\\0 & 0 & 0 & 1\\end{matrix}\\right]$"
      ],
      "text/plain": [
       "Matrix([\n",
       "[1,  0,  0, 0],\n",
       "[0,  0, -1, 0],\n",
       "[0, -1,  0, 0],\n",
       "[0,  0,  0, 1]])"
      ]
     },
     "execution_count": 36,
     "metadata": {},
     "output_type": "execute_result"
    }
   ],
   "source": [
    "H_q=Matrix([[1,0,0,0],[0,0,-1,0],[0,-1,0,0],[0,0,0,1]])\n",
    "H_q"
   ]
  },
  {
   "cell_type": "markdown",
   "metadata": {},
   "source": [
    "hint:   \n",
    "1. Decompose the matrix to the sum of Pauli terms\n",
    "2. ansatz you can use $(R_x(\\theta)\\otimes I_1 )(CX_{0,1}) (H_0\\otimes I_1) |00 \\rangle$\n"
   ]
  }
 ],
 "metadata": {
  "kernelspec": {
   "display_name": "Python 3",
   "language": "python",
   "name": "python3"
  },
  "language_info": {
   "codemirror_mode": {
    "name": "ipython",
    "version": 3
   },
   "file_extension": ".py",
   "mimetype": "text/x-python",
   "name": "python",
   "nbconvert_exporter": "python",
   "pygments_lexer": "ipython3",
   "version": "3.7.9"
  }
 },
 "nbformat": 4,
 "nbformat_minor": 4
}
